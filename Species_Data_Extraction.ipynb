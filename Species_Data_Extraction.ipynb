{
  "cells": [
    {
      "cell_type": "markdown",
      "metadata": {
        "id": "view-in-github",
        "colab_type": "text"
      },
      "source": [
        "<a href=\"https://colab.research.google.com/github/samwil56/earth-analytics-python-env/blob/main/Species_Data_Extraction.ipynb\" target=\"_parent\"><img src=\"https://colab.research.google.com/assets/colab-badge.svg\" alt=\"Open In Colab\"/></a>"
      ]
    },
    {
      "cell_type": "markdown",
      "source": [
        "Import Packages"
      ],
      "metadata": {
        "id": "kaOzsso2ME4r"
      }
    },
    {
      "cell_type": "code",
      "execution_count": null,
      "metadata": {
        "id": "iflQRL_4KKqC"
      },
      "outputs": [],
      "source": [
        "import pandas as pd\n",
        "import numpy as np"
      ]
    },
    {
      "cell_type": "code",
      "source": [
        "from google.colab import drive\n",
        "\n",
        "drive.mount('/content/drive')"
      ],
      "metadata": {
        "colab": {
          "base_uri": "https://localhost:8080/"
        },
        "id": "QNgvloD2O0Ru",
        "outputId": "0bf0a8d0-18b3-4739-93b9-1d4d7bbc751b"
      },
      "execution_count": null,
      "outputs": [
        {
          "output_type": "stream",
          "name": "stdout",
          "text": [
            "Mounted at /content/drive\n"
          ]
        }
      ]
    },
    {
      "cell_type": "markdown",
      "source": [
        "Import necessary data"
      ],
      "metadata": {
        "id": "qgAgSJBOMKe8"
      }
    },
    {
      "cell_type": "code",
      "execution_count": null,
      "metadata": {
        "id": "TxS70rgHKZq0"
      },
      "outputs": [],
      "source": [
        "#height_AIM = pd.read_csv('/content/drive/MyDrive/thesis_exploration/AIM_data_extraction/height_data_AIM.csv',low_memory=False)\n",
        "lpi_AIM = pd.read_csv('/content/drive/MyDrive/thesis_exploration/AIM_data_extraction/lpi_aim.csv',low_memory=False)\n",
        "full_census_AIM = pd.read_csv('/content/drive/MyDrive/thesis_exploration/AIM_data_extraction/AIM_census.csv',low_memory=False)\n",
        "species_id_AIM = pd.read_csv('/content/drive/MyDrive/thesis_exploration/AIM_data_extraction/species_id_AIM.csv',low_memory=False)\n",
        "\n",
        "#height_LMF = pd.read_csv('/content/drive/MyDrive/thesis_exploration/AIM_data_extraction/height_LMF.csv',low_memory=False)\n",
        "lpi_LMF = pd.read_csv('/content/drive/MyDrive/thesis_exploration/AIM_data_extraction/lpi_LMF.csv', low_memory=False)\n",
        "full_census_LMF = pd.read_csv('/content/drive/MyDrive/thesis_exploration/AIM_data_extraction/si_LMF.csv', low_memory=False)\n",
        "species_id_LMF = pd.read_csv('/content/drive/MyDrive/thesis_exploration/AIM_data_extraction/species_id_LMF.csv', low_memory=False)\n",
        "\n",
        "#This is Rachel's csv from 2016\n",
        "original_list = pd.read_csv('/content/drive/MyDrive/thesis_exploration/AIM_data_extraction/Rachel_PlantList_FINAL.csv', low_memory=False, encoding='windows-1252')"
      ]
    },
    {
      "cell_type": "markdown",
      "source": [
        "This chunk combines the 'descriptor' csv's provided for AIM and LMF data. There are no observations in these CSV's"
      ],
      "metadata": {
        "id": "IDHfHP1xMePU"
      }
    },
    {
      "cell_type": "code",
      "execution_count": null,
      "metadata": {
        "id": "Zy1Yhr_2KRg2"
      },
      "outputs": [],
      "source": [
        "frames = [species_id_LMF,species_id_AIM]\n",
        "species_id = pd.concat(frames)\n",
        "species_id = species_id.drop_duplicates(subset='Species')\n",
        "\n",
        "#print(species_id)"
      ]
    },
    {
      "cell_type": "markdown",
      "source": [
        "For all AIM data, get counts on number of times each unique species code occurs in LPI and Species Richness"
      ],
      "metadata": {
        "id": "xXhyaDr4MuEn"
      }
    },
    {
      "cell_type": "code",
      "execution_count": null,
      "metadata": {
        "id": "a36WZPrtpziJ"
      },
      "outputs": [],
      "source": [
        "species = pd.DataFrame()\n",
        "\n",
        "\n",
        "# get unique codes for all places that species are recorded in AIM\n",
        "hit1_AIM = list(lpi_AIM.TopCanopy.unique())\n",
        "hit2_AIM = list(lpi_AIM.Lower1.unique())\n",
        "hit3_AIM = list(lpi_AIM.Lower2.unique())\n",
        "hit4_AIM = list(lpi_AIM.Lower3.unique())\n",
        "hit5_AIM = list(lpi_AIM.Lower4.unique())\n",
        "basal_AIM = list(lpi_AIM.SoilSurface.unique())\n",
        "census_AIM = list(full_census_AIM.SpeciesList.unique())\n",
        "\n",
        "# unique codes for all LPI hits in AIM\n",
        "lpi_AIM = list(lpi_AIM.TopCanopy) + list(lpi_AIM.Lower1) + list(lpi_AIM.Lower2) + list(lpi_AIM.Lower3) + list(lpi_AIM.Lower4) \n",
        "\n",
        "lpi_AIM_pd = pd.DataFrame()\n",
        "lpi_AIM_pd['specs'] = lpi_AIM + census_AIM\n",
        "unique_lpi_AIM = lpi_AIM_pd.specs.unique()\n",
        "AIM = pd.DataFrame()\n",
        "AIM['AIM.CPLANT'] = unique_lpi_AIM\n",
        "AIM['AIM.lpi.freq'] = np.nan\n",
        "AIM['AIM.cen.freq'] = np.nan\n",
        "x = 0\n",
        "for i in AIM['AIM.CPLANT']:\n",
        "    AIM.iloc[[x],[1]] = lpi_AIM.count(i)\n",
        "    AIM.iloc[[x],[2]] = list(full_census_AIM.SpeciesList).count(i)\n",
        "    x = x+1\n",
        "\n"
      ]
    },
    {
      "cell_type": "markdown",
      "source": [
        "For all LMF data, get counts on number of times each unique species code occurs in LPI and Species Richness\n",
        "  - worth noting that LMF includes 6 hit + basal for LPI data whereas AIM data only includes 5"
      ],
      "metadata": {
        "id": "6e4OmSKqM5hr"
      }
    },
    {
      "cell_type": "code",
      "execution_count": null,
      "metadata": {
        "id": "zhZMXv6fp3kE"
      },
      "outputs": [],
      "source": [
        "# get unique codes for all places that species are recored in LMF\n",
        "hit1_LMF = list(lpi_LMF.HIT1.unique())\n",
        "hit2_LMF = list(lpi_LMF.HIT2.unique())\n",
        "hit3_LMF = list(lpi_LMF.HIT3.unique())\n",
        "hit4_LMF = list(lpi_LMF.HIT4.unique())\n",
        "hit5_LMF = list(lpi_LMF.HIT5.unique())\n",
        "hit6_LMF = list(lpi_LMF.HIT6.unique())\n",
        "basal_LMF = list(lpi_LMF.BASAL.unique())\n",
        "census_LMF = list(full_census_LMF.CPLANT.unique())\n",
        "\n",
        "\n",
        "# unique codes for all LPI hits in LMF\n",
        "lpi_LMF = list(lpi_LMF.HIT1) + list(lpi_LMF.HIT2) + list(lpi_LMF.HIT3) + list(lpi_LMF.HIT4) + list(lpi_LMF.HIT5) + list(lpi_LMF.HIT6)\n",
        "lpi_LMF_pd = pd.DataFrame()\n",
        "lpi_LMF_pd['specs'] = lpi_LMF + census_LMF\n",
        "unique_lpi_LMF = lpi_LMF_pd.specs.unique()\n",
        "LMF = pd.DataFrame()\n",
        "LMF['LMF.CPLANT'] = unique_lpi_LMF\n",
        "LMF['LMF.lpi.freq'] = np.nan\n",
        "LMF['LMF.cen.freq'] = np.nan\n",
        "x = int(0)\n",
        "for i in LMF['LMF.CPLANT']:\n",
        "    LMF.iloc[[x],[1]] = lpi_LMF.count(i)\n",
        "    LMF.iloc[[x],[2]] = list(full_census_LMF['CPLANT']).count(i)\n",
        "    x = x+1\n"
      ]
    },
    {
      "cell_type": "markdown",
      "source": [
        "Merge the two dataframes with frequency information"
      ],
      "metadata": {
        "id": "lzw5yW8yNXTs"
      }
    },
    {
      "cell_type": "code",
      "source": [
        "# now merge the LMF and the AIM data\n",
        "hit_count = LMF.merge(AIM, left_on ='LMF.CPLANT',\n",
        "                      right_on = 'AIM.CPLANT',\n",
        "                      how = 'outer')\n",
        "#print(hit_count.tail())"
      ],
      "metadata": {
        "id": "Jgv4OfNbNTPD"
      },
      "execution_count": null,
      "outputs": []
    },
    {
      "cell_type": "markdown",
      "source": [
        "In order to merge this new dataframe with frequencies back to the original, need to create a column with all species recorded in frequencies for both AIM and LMF"
      ],
      "metadata": {
        "id": "FLb1_VuNNgxW"
      }
    },
    {
      "cell_type": "code",
      "execution_count": null,
      "metadata": {
        "id": "IWRb2qegQEPc"
      },
      "outputs": [],
      "source": [
        "from pandas.core.ops.array_ops import na_logical_op\n",
        "hit_count['LMF.CPLANT'] = hit_count['LMF.CPLANT'].fillna(0)\n",
        "hit_count['AIM.CPLANT'] = hit_count['AIM.CPLANT'].fillna(0)\n",
        "x=0\n",
        "hit_count['ALL.SPECIES'] = np.nan\n",
        "\n",
        "for i in hit_count['LMF.CPLANT']:\n",
        "  num = hit_count.iat[x,0]\n",
        "  if num == 0:\n",
        "    hit_count.iloc[[x],[6]] = hit_count.iloc[[x],[3]]\n",
        "  else:\n",
        "    hit_count.iloc[[x],[6]] = hit_count.iloc[[x],[0]]\n",
        "  x = x+1"
      ]
    },
    {
      "cell_type": "markdown",
      "source": [
        "A test to make sure it looks correct"
      ],
      "metadata": {
        "id": "jAKlOmuFNvdH"
      }
    },
    {
      "cell_type": "code",
      "execution_count": null,
      "metadata": {
        "id": "vPfgU8-QJnGU"
      },
      "outputs": [],
      "source": [
        "census_LMF = pd.DataFrame(census_LMF)\n",
        "census_LMF.to_csv('LMF.csv')"
      ]
    },
    {
      "cell_type": "markdown",
      "source": [
        "Merge the observational data to the species_id dataframe that holds species descriptions"
      ],
      "metadata": {
        "id": "F91YwUrgOC57"
      }
    },
    {
      "cell_type": "code",
      "execution_count": null,
      "metadata": {
        "id": "X9MUYM1MqLw0"
      },
      "outputs": [],
      "source": [
        "# all of the unique code information combined \n",
        "all_species = hit1_AIM + hit2_AIM + hit3_AIM + hit4_AIM + hit5_AIM + basal_AIM + census_AIM + hit1_LMF + hit2_LMF + hit3_LMF + hit4_LMF + hit5_LMF + hit6_LMF + basal_LMF + hplant_LMF + wplant_LMF + census_LMF\n",
        "\n",
        "# add that data into a pd df\n",
        "species['spec'] = all_species\n",
        "# get the unique codes again in case of overlap\n",
        "uni = list(species.spec.unique())\n",
        "# I think this is innefficient and can be cleaned up in the future\n",
        "species_unique = pd.DataFrame()\n",
        "species_unique['species'] = uni\n",
        "\n",
        "# merge this with species information\n",
        "species_unique1 = species_unique.merge(species_id, left_on = 'species',\n",
        "                                      right_on = 'Species',\n",
        "                                      how = 'right')\n",
        "\n"
      ]
    },
    {
      "cell_type": "markdown",
      "source": [
        "Merge the species descriptions dataframe to the frequency dataframe. Merge this new dataframe to the csv provided from Rachel. Select the columns of interest and export."
      ],
      "metadata": {
        "id": "oBLX_0STOPIQ"
      }
    },
    {
      "cell_type": "code",
      "execution_count": null,
      "metadata": {
        "id": "4an2w08SqQER"
      },
      "outputs": [],
      "source": [
        "# export\n",
        "#species_unique1.to_csv('unique_species.csv', encoding = 'utf-8')\n",
        "\n",
        "# Since there are versions for each state, drop all the duplicates             \n",
        "\n",
        "\n",
        "df = species_unique1.merge(hit_count, left_on = 'species',right_on = 'ALL.SPECIES',how='right')\n",
        "\n",
        "# export\n",
        "#df.to_csv('unique_species_code.csv', encoding = 'utf-8')\n",
        "\n",
        "df = df.merge(original_list, left_on = 'ALL.SPECIES', right_on = 'CPLANT',how='outer')\n",
        "df.to_csv('almost_all.csv', encoding = 'utf-8')\n",
        "\n",
        "full_df = df[['ALL.SPECIES', \n",
        "             'GrowthHabit_y',\n",
        "             'GrowthHabitSub_y',\n",
        "             'Duration_y',\n",
        "             'Noxious',\n",
        "             'SpeciesState',\n",
        "             'LMF.lpi.freq',\n",
        "             'LMF.cen.freq',\n",
        "             'AIM.lpi.freq',\n",
        "             'AIM.cen.freq',\n",
        "             'ScientificName',\n",
        "             'Family_y',\n",
        "             'invasive',\n",
        "             'introduced',\n",
        "             'Warm',\n",
        "             'Cool',\n",
        "             'Rhiz',\n",
        "             'Bunch',\n",
        "             'Code'\n",
        "]]\n",
        "\n",
        "#full_df is the csv with all species observed with frequencies and Rachel's data!\n",
        "full_df.to_csv('full_species_list.csv', encoding='utf-8')"
      ]
    },
    {
      "cell_type": "code",
      "source": [],
      "metadata": {
        "id": "1Vp5A1kxmdpj"
      },
      "execution_count": null,
      "outputs": []
    },
    {
      "cell_type": "code",
      "source": [
        "#og = pd.read_csv('/content/drive/MyDrive/AIM_LMF_SpeciesData/full_species_list.csv')\n",
        "og = full_df\n",
        "new = pd.read_csv('/content/drive/MyDrive/AIM_LMF_SpeciesData/USDAPlants_lists/USDAPlantsList_FinalMerged.csv')"
      ],
      "metadata": {
        "id": "RjQOqWy5Pdo5"
      },
      "execution_count": null,
      "outputs": []
    },
    {
      "cell_type": "code",
      "source": [
        "df = og.merge(new,left_on='ALL.SPECIES',right_on='Synonym Symbol',how='left')"
      ],
      "metadata": {
        "id": "Dg5WNMpnQbLu"
      },
      "execution_count": null,
      "outputs": []
    },
    {
      "cell_type": "code",
      "source": [
        "print(df.columns)"
      ],
      "metadata": {
        "id": "L3foKAMECrAj"
      },
      "execution_count": null,
      "outputs": []
    },
    {
      "cell_type": "code",
      "source": [
        "df['GrowthHabit_sub'] = np.nan"
      ],
      "metadata": {
        "id": "Z6tiEoYTRzFi"
      },
      "execution_count": null,
      "outputs": []
    },
    {
      "cell_type": "code",
      "source": [
        "x=0\n",
        "for i in df['ALL.SPECIES']:\n",
        "  forb = df.iat[x,29]\n",
        "  grass = df.iat[x,30]\n",
        "  lichen =df.iat[x,31]\n",
        "  nonv = df.iat[x,32]\n",
        "  shrub = df.iat[x,33]\n",
        "  subshrub = df.iat[x,34]\n",
        "  tree = df.iat[x,35]\n",
        "  vine = df.iat[x,36]\n",
        "  if forb == 1:\n",
        "    df.iloc[[x],[38]] = 'Forb/herb'\n",
        "  elif grass == 1:\n",
        "    df.iloc[[x],[38]] = 'Graminoid'\n",
        "  elif lichen == 1:\n",
        "    df.iloc[[x],[38]] = 'Forb/herb'\n",
        "  elif nonv == 1:\n",
        "    df.iloc[[x],[38]] = 'Forb/herb'\n",
        "  elif subshrub == 1:\n",
        "    df.iloc[[x],[38]] = 'Subshrub'\n",
        "  elif shrub == 1:\n",
        "    df.iloc[[x],[38]] = 'Shrub'\n",
        "  elif tree == 1:\n",
        "    df.iloc[[x],[38]] = 'Tree'\n",
        "  elif vine == 1:\n",
        "    df.iloc[[x],[38]] = 'Forb/herb'\n",
        "  else:\n",
        "    df.iloc[[x],[38]] = df.iat[x,3]\n",
        "  x=x+1"
      ],
      "metadata": {
        "id": "uEl1KidiBO7f"
      },
      "execution_count": null,
      "outputs": []
    },
    {
      "cell_type": "code",
      "source": [
        "df['GrowthHabit'] = np.nan"
      ],
      "metadata": {
        "id": "pRFBOSPKGQcQ"
      },
      "execution_count": null,
      "outputs": []
    },
    {
      "cell_type": "code",
      "source": [
        "x=0\n",
        "for i in df['ALL.SPECIES']:\n",
        "  growth = df.iat[x,38]\n",
        "  if growth == 'Shrub' or growth == 'Tree':\n",
        "    df.iloc[[x],[39]]= 'Woody'\n",
        "  elif pd.notna(growth) == True:\n",
        "    df.iloc[[x],[39]] = 'Non-woody'\n",
        "  else:\n",
        "    df.iloc[[x],[39]] = df.iat[x,2]\n",
        "  x=x+1"
      ],
      "metadata": {
        "id": "_6M101ZeGdHG"
      },
      "execution_count": null,
      "outputs": []
    },
    {
      "cell_type": "code",
      "source": [
        "df['Duration'] = np.nan"
      ],
      "metadata": {
        "id": "enoP5xdcIGO-"
      },
      "execution_count": null,
      "outputs": []
    },
    {
      "cell_type": "code",
      "source": [
        "x=0\n",
        "for i in df['ALL.SPECIES']:\n",
        "  ann = df.iat[x,26]\n",
        "  per =df.iat[x,28]\n",
        "  bi = df.iat[x,27]\n",
        "  if ann == 1:\n",
        "    df.iloc[[x],[40]] = 'Annual'\n",
        "  elif per == 1:\n",
        "    df.iloc[[x],[40]] = 'Perennial'\n",
        "  elif bi == 1:\n",
        "    df.iloc[[x],[40]] = 'Biennial'\n",
        "  else:\n",
        "    df.iloc[[x],[40]] = df.iat[x,4]\n",
        "  x=x+1"
      ],
      "metadata": {
        "id": "n3gGU_euIPZm"
      },
      "execution_count": null,
      "outputs": []
    },
    {
      "cell_type": "code",
      "source": [
        "full_df = df[['ALL.SPECIES', \n",
        "             'GrowthHabit',\n",
        "             'GrowthHabit_sub',\n",
        "             'Duration',\n",
        "             'SpeciesState',\n",
        "             'LMF.lpi.freq',\n",
        "             'LMF.cen.freq',\n",
        "             'AIM.lpi.freq',\n",
        "             'AIM.cen.freq',\n",
        "             'ScientificName',\n",
        "             'Family_y',\n",
        "             'Noxious',\n",
        "             'Invasive',\n",
        "             'introduced',\n",
        "             'Warm',\n",
        "             'Cool',\n",
        "             'Rhiz',\n",
        "             'Bunch',\n",
        "             'Code'\n",
        "]]\n",
        "\n",
        "#full_df is the csv with all species observed with frequencies and Rachel's data!\n",
        "full_df.to_csv('plant_list_with_USDA.csv', encoding='utf-8')"
      ],
      "metadata": {
        "id": "VM1S2FUyKwW5"
      },
      "execution_count": null,
      "outputs": []
    }
  ],
  "metadata": {
    "colab": {
      "provenance": [],
      "mount_file_id": "12-1V7ckuJuxGzwIxvmC4BQdUKhsFVvgq",
      "authorship_tag": "ABX9TyO8W4CbR6ckn2G3Z97d408B",
      "include_colab_link": true
    },
    "kernelspec": {
      "display_name": "Python 3",
      "name": "python3"
    },
    "language_info": {
      "name": "python"
    }
  },
  "nbformat": 4,
  "nbformat_minor": 0
}